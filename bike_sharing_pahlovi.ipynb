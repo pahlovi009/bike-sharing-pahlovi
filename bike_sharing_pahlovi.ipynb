{
  "nbformat": 4,
  "nbformat_minor": 0,
  "metadata": {
    "colab": {
      "provenance": [],
      "authorship_tag": "ABX9TyPUJH52mvnw1F0YVQY7i4B3",
      "include_colab_link": true
    },
    "kernelspec": {
      "name": "python3",
      "display_name": "Python 3"
    },
    "language_info": {
      "name": "python"
    }
  },
  "cells": [
    {
      "cell_type": "markdown",
      "metadata": {
        "id": "view-in-github",
        "colab_type": "text"
      },
      "source": [
        "<a href=\"https://colab.research.google.com/github/pahlovi009/bike-sharing-pahlovi/blob/main/bike_sharing_pahlovi.ipynb\" target=\"_parent\"><img src=\"https://colab.research.google.com/assets/colab-badge.svg\" alt=\"Open In Colab\"/></a>"
      ]
    },
    {
      "cell_type": "markdown",
      "source": [
        "# Case Study - Bike Sharing\n",
        "\n",
        "# **Context:**\n",
        "\n",
        "Bike-sharing systems are a new generation of traditional bike rentals where the whole process from membership, rental and return back has become automatic. Through these systems, the user is able to easily rent a bike from a particular position and return back to another position. Currently, there are about over 500 bike-sharing programs around the world which are composed of over 500 thousand bicycles. Today, there exists a great interest in these systems due to their important role in traffic, environmental, and health issues.\n",
        "\n",
        "# **Problem Statement:**\n",
        "\n",
        "'Travel Along' is a new bike-sharing company and wants to expand its customer count and provide better services at a reasonable cost. They have conducted several surveys and collated the data about weather, weekends, holidays, etc. from the past 2 years.\n",
        "\n",
        "As a recently hired data scientist at 'Travel Along', you have been asked to analyze the patterns in the data and figure out the key areas which can help the organization to grow and manage the customer demands. Further, you need to use this information to predict the count of bikes shared so that the company can take prior decisions for surge hours.\n",
        "\n",
        "# **Objective:**\n",
        "\n",
        "What are the different factors which affect the target variable? What business recommendations can we give based on the analysis?\n",
        "How can we use different ensemble techniques - Bagging, Boosting, and Stacking to build a model to predict the count of bikes rented?\n"
      ],
      "metadata": {
        "id": "Pzuwmj8ZVe5o"
      }
    },
    {
      "cell_type": "markdown",
      "source": [
        "# New Section"
      ],
      "metadata": {
        "id": "M_ixlIAo-hBJ"
      }
    },
    {
      "cell_type": "code",
      "source": [],
      "metadata": {
        "id": "OYuGm05o-aLn"
      },
      "execution_count": null,
      "outputs": []
    },
    {
      "cell_type": "markdown",
      "source": [
        "# **Data Description:**\n",
        "\n",
        "Bike-sharing rental process is highly correlated to the environmental and seasonal settings. For instance, weather conditions, precipitation, day of week, season, hour of the day, etc. can affect the rental behaviors.\n",
        "\n",
        "instant: record index\n",
        "dteday : date\n",
        "season : season (1:spring, 2:summer, 3:fall, 4:winter)\n",
        "yr : year (0: 2011, 1:2012)\n",
        "mnth : month ( 1 to 12)\n",
        "hr : hour (0 to 23)\n",
        "holiday : whether day is holiday or not\n",
        "weekday : day of the week\n",
        "workingday : if day is neither weekend nor holiday then 1, otherwise is 0.\n",
        "weathersit :\n",
        "1: Clear, Few clouds, Partly cloudy\n",
        "2: Mist + Cloudy, Mist + Broken clouds, Mist + Few clouds, Mist\n",
        "3: Light Snow, Light Rain + Thunderstorm + Scattered clouds, Light Rain + Scattered clouds\n",
        "4: Heavy Rain + Ice Pallets + Thunderstorm + Mist, Snow + Fog\n",
        "temp : Normalized temperature in Celsius. The values are divided to 41 (max)\n",
        "atemp: Normalized feeling temperature in Celsius. The values are divided to 50 (max). The “feel like” temperature relies on environmental data including the ambient air temperature, relative humidity, and wind speed to determine how weather conditions feel to bare skin.\n",
        "hum: Normalized humidity. The values are divided to 100 (max)\n",
        "windspeed: Normalized wind speed. The values are divided to 67 (max)\n",
        "casual: count of casual users\n",
        "registered: count of registered users\n",
        "cnt: count of total rental bikes including both casual and registered\n"
      ],
      "metadata": {
        "id": "U-IDakwFWV82"
      }
    },
    {
      "cell_type": "markdown",
      "source": [
        "# **Index**\n",
        "\n",
        "Overview of the dataset\n",
        "\n",
        "EDA\n",
        "\n",
        "Split the dataset\n",
        "\n",
        "Decision Tree Model\n",
        "\n",
        "Random Forest Model\n",
        "\n",
        "Boosting Models\n",
        "\n"
      ],
      "metadata": {
        "id": "3qir9prCWo52"
      }
    },
    {
      "cell_type": "code",
      "source": [
        "import warnings\n",
        "warnings.filterwarnings(\"ignore\")\n",
        "\n",
        "import numpy as np\n",
        "import pandas as pd\n",
        "import seaborn as sns\n",
        "import matplotlib.pyplot as plt\n",
        "from sklearn.tree import DecisionTreeRegressor\n",
        "from sklearn.ensemble import BaggingRegressor,RandomForestRegressor, GradientBoostingRegressor, AdaBoostRegressor, StackingRegressor\n",
        "from xgboost import XGBRegressor\n",
        "from sklearn import metrics\n",
        "from sklearn.model_selection import GridSearchCV, train_test_split\n",
        "\n",
        "from sklearn import metrics\n",
        "import matplotlib.pyplot as plt\n",
        "%matplotlib inline\n",
        "\n",
        "from sklearn import metrics\n",
        "from sklearn.tree import DecisionTreeClassifier\n",
        "from sklearn.ensemble import AdaBoostClassifier, GradientBoostingClassifier\n",
        "#To install xgboost library use - !pip install xgboost\n",
        "from xgboost import XGBClassifier"
      ],
      "metadata": {
        "id": "wTbt4a29XOLI"
      },
      "execution_count": null,
      "outputs": []
    }
  ]
}